{
  "nbformat": 4,
  "nbformat_minor": 0,
  "metadata": {
    "colab": {
      "name": "Exam_Pythonipynb",
      "provenance": [],
      "collapsed_sections": []
    },
    "kernelspec": {
      "name": "python3",
      "display_name": "Python 3"
    },
    "language_info": {
      "name": "python"
    }
  },
  "cells": [
    {
      "cell_type": "code",
      "execution_count": 39,
      "metadata": {
        "id": "a3xw5TXwggK0"
      },
      "outputs": [],
      "source": [
        "# Q3.Print\n",
        "  #1\n",
        "  #0 1\n",
        "  #0 1 0\n",
        "  #1 0 1 0\n",
        "  #1 0 1 0 1\n",
        "\n",
        "for i in range(1,6):\n",
        "  for j in range(1,i+1,-1):\n",
        "    print(j)\n"
      ]
    },
    {
      "cell_type": "code",
      "source": [
        "#Q.2) Write code to find the average of ‘n’numbers entered by the user to function avg ( ).Ex: avg (10, 20, 30, 40) => average is: 70avg (5, 10, 15) => average is: 10\n",
        "def avg(n):\n",
        "  n+=n\n",
        "  return avg=n/len"
      ],
      "metadata": {
        "colab": {
          "base_uri": "https://localhost:8080/",
          "height": 133
        },
        "id": "ZlUWKmmKmxYz",
        "outputId": "742f88af-c652-4875-c1b6-4df291034503"
      },
      "execution_count": 1,
      "outputs": [
        {
          "output_type": "error",
          "ename": "SyntaxError",
          "evalue": "ignored",
          "traceback": [
            "\u001b[0;36m  File \u001b[0;32m\"<ipython-input-1-11e6554a9688>\"\u001b[0;36m, line \u001b[0;32m2\u001b[0m\n\u001b[0;31m    def avg(n):\u001b[0m\n\u001b[0m               ^\u001b[0m\n\u001b[0;31mSyntaxError\u001b[0m\u001b[0;31m:\u001b[0m unexpected EOF while parsing\n"
          ]
        }
      ]
    },
    {
      "cell_type": "code",
      "source": [
        "#Q.4) Write a code to accept a number & printin words\n",
        "\n",
        "\n",
        "arr=['zero','one','two','three','four','five','six','seven','eight','nine']\n",
        "\n",
        "def number_in_words(n):\n",
        "  if(n==0):\n",
        "    return \"\"\n",
        "  else:\n",
        "    small_ans=arr[n%10]\n",
        "    ans=number_in_words(int(n/10))+small_ans+\" \"\n",
        "  return ans\n",
        "\n",
        "n=int(input(\"Enter number\"))\n",
        "print(\"Number entered : \",n)\n",
        "print(\"Number in words : \",end=\"\")\n",
        "print(number_in_words(n))"
      ],
      "metadata": {
        "colab": {
          "base_uri": "https://localhost:8080/"
        },
        "id": "6T4-UUEJr4xf",
        "outputId": "2375910f-32fe-4b17-cb4a-c25a0fe50a80"
      },
      "execution_count": 16,
      "outputs": [
        {
          "output_type": "stream",
          "name": "stdout",
          "text": [
            "Enter number123\n",
            "Number entered :  123\n",
            "Number in words : one two three \n"
          ]
        }
      ]
    },
    {
      "cell_type": "code",
      "source": [
        "class Math():\n",
        "  def __init__(self,a,b):\n",
        "    self.a=a\n",
        "    self.b=b\n",
        "  def add(self):\n",
        "    result=self.a+self.b\n",
        "    print(\"Addition is : \",result)\n",
        "  \n",
        "  def div(self):\n",
        "    result=self.a/self.b\n",
        "    print(\"Division is : \",int(result))\n",
        "\n",
        "  def sub(self):\n",
        "    result=self.a-self.b\n",
        "    print(\"Subtraction is : \",result)\n",
        "\n",
        "  def mul(self):\n",
        "    result=self.a*self.b\n",
        "    print(\"Multiplication is : \",result)\n"
      ],
      "metadata": {
        "id": "dW9kQxgvo-J2"
      },
      "execution_count": 29,
      "outputs": []
    },
    {
      "cell_type": "code",
      "source": [
        "M=Math(20,10)\n",
        "M.add()\n",
        "M.div()\n",
        "M.sub()\n",
        "M.mul()"
      ],
      "metadata": {
        "colab": {
          "base_uri": "https://localhost:8080/"
        },
        "id": "gtx3FoLawYww",
        "outputId": "b3923ec3-ca1a-4a85-cec2-6f76cabfe4eb"
      },
      "execution_count": 30,
      "outputs": [
        {
          "output_type": "stream",
          "name": "stdout",
          "text": [
            "Addition is :  30\n",
            "Division is :  2\n",
            "Subtraction is :  10\n",
            "Multiplication is :  200\n"
          ]
        }
      ]
    },
    {
      "cell_type": "code",
      "source": [
        "for i in range(1,8,2):\n",
        "  for j in range(0,i):\n",
        "    print(i,end='')\n",
        "  print()"
      ],
      "metadata": {
        "colab": {
          "base_uri": "https://localhost:8080/"
        },
        "id": "2gQaOijFwsX1",
        "outputId": "cdca7a73-95ee-44ed-94d7-cb490c2bd34b"
      },
      "execution_count": 40,
      "outputs": [
        {
          "output_type": "stream",
          "name": "stdout",
          "text": [
            "1\n",
            "333\n",
            "55555\n",
            "7777777\n"
          ]
        }
      ]
    },
    {
      "cell_type": "code",
      "source": [
        "#Q.6) Read file & count numbers of digit alphabets & symbols\n",
        "a=input(\"enter string\")\n",
        "list=[]\n",
        "alpha=0\n",
        "digit=0\n",
        "symbol=0\n",
        "for i in range(len(a)):\n",
        "  if(a[i].isalpha()):\n",
        "    alpha=alpha+1\n",
        "  elif(a[i].isdigit()):\n",
        "    digit=digit+1\n",
        "  else:\n",
        "    symbol=symbol+1\n",
        "print(\"Number of alpha \",alpha)\n",
        "print(\"Number of digit \",digit)\n",
        "print(\"Number of symbol \",symbol)"
      ],
      "metadata": {
        "colab": {
          "base_uri": "https://localhost:8080/"
        },
        "id": "Lqf8GDGe15ip",
        "outputId": "7da1fc71-6e70-4b97-ed6c-ee854612075e"
      },
      "execution_count": 42,
      "outputs": [
        {
          "output_type": "stream",
          "name": "stdout",
          "text": [
            "enter stringRohit@123\n",
            "Number of alpha  5\n",
            "Number of digit  3\n",
            "Number of symbol  1\n"
          ]
        }
      ]
    },
    {
      "cell_type": "code",
      "source": [
        "#Q.9) Accept String & print only alternate characters on a string\n",
        "a=input(\"Enter string :\")\n",
        "list=a.split()\n",
        "print(list)"
      ],
      "metadata": {
        "colab": {
          "base_uri": "https://localhost:8080/"
        },
        "id": "MuubaqPS5cdY",
        "outputId": "e257a7c4-4400-4de7-811e-18292c00c937"
      },
      "execution_count": 43,
      "outputs": [
        {
          "output_type": "stream",
          "name": "stdout",
          "text": [
            "Enter string :this is a_ test\n",
            "['this', 'is', 'a_', 'test']\n"
          ]
        }
      ]
    }
  ]
}